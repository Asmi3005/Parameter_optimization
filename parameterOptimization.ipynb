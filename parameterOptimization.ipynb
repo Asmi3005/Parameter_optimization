{
  "nbformat": 4,
  "nbformat_minor": 0,
  "metadata": {
    "colab": {
      "provenance": []
    },
    "kernelspec": {
      "name": "python3",
      "display_name": "Python 3"
    },
    "language_info": {
      "name": "python"
    }
  },
  "cells": [
    {
      "cell_type": "code",
      "execution_count": 41,
      "metadata": {
        "id": "RdPfaILw_PUH"
      },
      "outputs": [],
      "source": [
        "import pandas as pd\n",
        "import numpy as np\n",
        "import matplotlib.pyplot as plt\n",
        "from ucimlrepo import fetch_ucirepo\n",
        "from sklearn.svm import SVC\n",
        "from sklearn.model_selection import train_test_split\n",
        "from sklearn.preprocessing import StandardScaler\n",
        "from sklearn.metrics import accuracy_score\n",
        "import random\n"
      ]
    },
    {
      "cell_type": "code",
      "source": [
        "# Letter Recognition Dataset\n",
        "data= fetch_ucirepo(id=59)\n",
        "X = data.data.features\n",
        "y = data.data.targets.squeeze()"
      ],
      "metadata": {
        "id": "vtV-YHFR_SN6"
      },
      "execution_count": 43,
      "outputs": []
    },
    {
      "cell_type": "code",
      "source": [
        "scaler = StandardScaler()\n",
        "X_scaled = scaler.fit_transform(X)"
      ],
      "metadata": {
        "id": "MNXcOeEUFTxz"
      },
      "execution_count": 44,
      "outputs": []
    },
    {
      "cell_type": "code",
      "source": [
        "kernel_options = ['linear', 'poly', 'rbf', 'sigmoid']\n",
        "all_results = []\n",
        "top_score = 0\n",
        "best_log = None\n"
      ],
      "metadata": {
        "id": "s2grFFOa_YFE"
      },
      "execution_count": 46,
      "outputs": []
    },
    {
      "cell_type": "code",
      "source": [
        "for sample in range(10):\n",
        "    X_train_full, X_test, y_train_full, y_test = train_test_split(\n",
        "        X_scaled, y, test_size=0.3, random_state=100 + sample, stratify=y)\n",
        "    train_subset = X_train_full[:50]\n",
        "    label_subset = y_train_full[:50]\n",
        "\n",
        "    best_accuracy = 0\n",
        "    best_params = {}\n",
        "    logs = []"
      ],
      "metadata": {
        "id": "1sdqo9gG_gvh"
      },
      "execution_count": 47,
      "outputs": []
    },
    {
      "cell_type": "code",
      "source": [
        "for iteration in range(100):  # You can try 300 if needed\n",
        "        kernel = random.choice(kernel_options)\n",
        "        C = round(random.uniform(0.1, 5.0), 2)\n",
        "        gamma = round(random.uniform(0.001, 1.0), 3)\n",
        "\n",
        "        try:\n",
        "            clf = SVC(kernel=kernel, C=C, gamma=gamma)\n",
        "            clf.fit(train_subset, label_subset)\n",
        "            preds = clf.predict(X_test)\n",
        "            acc = accuracy_score(y_test, preds) * 100\n",
        "        except:\n",
        "            acc = 0\n",
        "\n",
        "        if acc > best_accuracy:\n",
        "            best_accuracy = acc\n",
        "            best_params = {\n",
        "                \"kernel\": kernel,\n",
        "                \"C\": C,\n",
        "                \"gamma\": gamma\n",
        "            }\n",
        "\n",
        "        logs.append({\n",
        "            \"Iteration\": iteration,\n",
        "            \"Best Accuracy\": round(best_accuracy, 2),\n",
        "            \"Kernel\": best_params.get(\"kernel\", \"\"),\n",
        "            \"C\": best_params.get(\"C\", 0),\n",
        "            \"Gamma\": best_params.get(\"gamma\", 0),\n",
        "            \"Sample\": sample + 1\n",
        "        })"
      ],
      "metadata": {
        "id": "WrFCE4gK_iLz"
      },
      "execution_count": 49,
      "outputs": []
    },
    {
      "cell_type": "code",
      "source": [
        "all_results.append({\n",
        "        \"Sample\": sample + 1,\n",
        "        \"Best Accuracy\": round(best_accuracy, 2),\n",
        "        **best_params\n",
        "})\n",
        "\n",
        "if best_accuracy > top_score:\n",
        "        top_score = best_accuracy\n",
        "        best_log = pd.DataFrame(logs)"
      ],
      "metadata": {
        "id": "V0xn2Uxq_j4b"
      },
      "execution_count": 51,
      "outputs": []
    },
    {
      "cell_type": "code",
      "source": [
        "plt.figure(figsize=(10, 5))\n",
        "plt.plot(best_log[\"Iteration\"], best_log[\"Best Accuracy\"],\n",
        "         color=\"green\", linestyle='--', marker='s')\n",
        "plt.title(\"SVM Convergence - Best Sample (Letter Dataset)\")\n",
        "plt.xlabel(\"Iteration\")\n",
        "plt.ylabel(\"Best Accuracy (%)\")\n",
        "plt.grid(True)\n",
        "plt.tight_layout()\n",
        "plt.savefig(\"letter_convergence.png\")\n",
        "plt.show()\n"
      ],
      "metadata": {
        "colab": {
          "base_uri": "https://localhost:8080/",
          "height": 336
        },
        "id": "H9anFV3m_maH",
        "outputId": "948f88c6-e89c-4f16-da11-a8b696c9c42f"
      },
      "execution_count": 52,
      "outputs": [
        {
          "output_type": "display_data",
          "data": {
            "text/plain": [
              "<Figure size 1000x500 with 1 Axes>"
            ],
            "image/png": "[encoded data removed]"
          },
          "metadata": {}
        }
      ]
    },
    {
      "cell_type": "code",
      "source": [
        "summary_df = pd.DataFrame(all_results)\n",
        "print(summary_df)\n",
        "summary_df.to_csv(\"svm_letter_summary.csv\", index=False)"
      ],
      "metadata": {
        "colab": {
          "base_uri": "https://localhost:8080/"
        },
        "id": "oKVg-NuA_olS",
        "outputId": "c10a7de7-d109-421c-c0bb-dfbcc92c4bcc"
      },
      "execution_count": 54,
      "outputs": [
        {
          "output_type": "stream",
          "name": "stdout",
          "text": [
            "   Sample  Best Accuracy  kernel     C  gamma\n",
            "0      10          39.58  linear  4.94  0.713\n"
          ]
        }
      ]
    }
  ]
}